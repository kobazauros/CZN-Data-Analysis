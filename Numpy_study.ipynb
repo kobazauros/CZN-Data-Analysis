{
 "cells": [
  {
   "cell_type": "markdown",
   "metadata": {},
   "source": [
    "### 1. Prepare a shopping list!\n"
   ]
  },
  {
   "cell_type": "code",
   "execution_count": 2,
   "metadata": {},
   "outputs": [],
   "source": [
    "items = ['bread', 'cheese', 'kale', 'chocolate']"
   ]
  },
  {
   "cell_type": "markdown",
   "metadata": {},
   "source": [
    "Find out the length of shopping list."
   ]
  },
  {
   "cell_type": "code",
   "execution_count": 3,
   "metadata": {},
   "outputs": [
    {
     "data": {
      "text/plain": [
       "4"
      ]
     },
     "execution_count": 3,
     "metadata": {},
     "output_type": "execute_result"
    }
   ],
   "source": [
    "len(items)"
   ]
  },
  {
   "cell_type": "markdown",
   "metadata": {},
   "source": [
    "### 2. Write a 'for' cycle that says 'Hello' to each of friends."
   ]
  },
  {
   "cell_type": "code",
   "execution_count": 4,
   "metadata": {},
   "outputs": [
    {
     "name": "stdout",
     "output_type": "stream",
     "text": [
      "Hello, Jenny!\n",
      "Hello, Tony!\n",
      "Hello, Pichuan!\n",
      "Hello, Wayan!\n"
     ]
    }
   ],
   "source": [
    "friends = ['Jenny', 'Tony', 'Pichuan', 'Wayan']\n",
    "for i in friends:\n",
    "    print(f\"Hello, {i}!\")"
   ]
  },
  {
   "cell_type": "markdown",
   "metadata": {},
   "source": [
    "### 3. Write a script that calculates a number of words in each sentence of Monty Python's 'Holy Grail' Part One and an average number of symbols in a word. Print it out in the following manner.\n",
    "```\n",
    "Sentence 1 is <int> characters.\n",
    "Sentence 1 is <int> words long.\n",
    "This sentence has <float> characters per word.\n",
    "Sentence 2 is <int> characters.\n",
    "Sentence 2 is <int> words long.\n",
    "This sentence has <float> characters per word.\n",
    "...\n",
    "Scene 1 is <int> sentences long.\n",
    "Scene 1 is <int> characters long.\n",
    "The average sentence length in characters: <float>.\n",
    "The average word length in characters: <float>.\n",
    "```"
   ]
  },
  {
   "cell_type": "code",
   "execution_count": 144,
   "metadata": {},
   "outputs": [
    {
     "name": "stdout",
     "output_type": "stream",
     "text": [
      "Sentence 1 is 9 characters.\n",
      "Sentence 1 is 2 word long.\n",
      "Sentence 1 has 4.50 characters per word.\n",
      "Sentence 2 is 4 characters.\n",
      "Sentence 2 is 1 word long.\n",
      "Sentence 2 has 4.00 characters per word.\n",
      "Sentence 3 is 12 characters.\n",
      "Sentence 3 is 3 word long.\n",
      "Sentence 3 has 4.00 characters per word.\n",
      "Sentence 4 is 52 characters.\n",
      "Sentence 4 is 13 word long.\n",
      "Sentence 4 has 4.00 characters per word.\n",
      "Sentence 5 is 56 characters.\n",
      "Sentence 5 is 12 word long.\n",
      "Sentence 5 has 4.67 characters per word.\n",
      "Sentence 6 is 15 characters.\n",
      "Sentence 6 is 4 word long.\n",
      "Sentence 6 has 3.75 characters per word.\n",
      "Sentence 7 is 3 characters.\n",
      "Sentence 7 is 2 word long.\n",
      "Sentence 7 has 1.50 characters per word.\n",
      "Sentence 8 is 27 characters.\n",
      "Sentence 8 is 6 word long.\n",
      "Sentence 8 has 4.50 characters per word.\n",
      "Sentence 9 is 88 characters.\n",
      "Sentence 9 is 23 word long.\n",
      "Sentence 9 has 3.83 characters per word.\n",
      "Sentence 10 is 31 characters.\n",
      "Sentence 10 is 8 word long.\n",
      "Sentence 10 has 3.88 characters per word.\n",
      "Sentence 11 is 18 characters.\n",
      "Sentence 11 is 5 word long.\n",
      "Sentence 11 has 3.60 characters per word.\n",
      "Sentence 12 is 3 characters.\n",
      "Sentence 12 is 1 word long.\n",
      "Sentence 12 has 3.00 characters per word.\n",
      "Sentence 13 is 19 characters.\n",
      "Sentence 13 is 3 word long.\n",
      "Sentence 13 has 6.33 characters per word.\n",
      "Sentence 14 is 4 characters.\n",
      "Sentence 14 is 1 word long.\n",
      "Sentence 14 has 4.00 characters per word.\n",
      "Sentence 15 is 59 characters.\n",
      "Sentence 15 is 12 word long.\n",
      "Sentence 15 has 4.92 characters per word.\n",
      "Sentence 16 is 2 characters.\n",
      "Sentence 16 is 1 word long.\n",
      "Sentence 16 has 2.00 characters per word.\n",
      "Sentence 17 is 82 characters.\n",
      "Sentence 17 is 17 word long.\n",
      "Sentence 17 has 4.82 characters per word.\n",
      "Sentence 18 is 23 characters.\n",
      "Sentence 18 is 5 word long.\n",
      "Sentence 18 has 4.60 characters per word.\n",
      "Sentence 19 is 11 characters.\n",
      "Sentence 19 is 3 word long.\n",
      "Sentence 19 has 3.67 characters per word.\n",
      "Sentence 20 is 9 characters.\n",
      "Sentence 20 is 2 word long.\n",
      "Sentence 20 has 4.50 characters per word.\n",
      "Sentence 21 is 8 characters.\n",
      "Sentence 21 is 2 word long.\n",
      "Sentence 21 has 4.00 characters per word.\n",
      "Sentence 22 is 20 characters.\n",
      "Sentence 22 is 3 word long.\n",
      "Sentence 22 has 6.67 characters per word.\n",
      "Sentence 23 is 13 characters.\n",
      "Sentence 23 is 4 word long.\n",
      "Sentence 23 has 3.25 characters per word.\n",
      "Sentence 24 is 24 characters.\n",
      "Sentence 24 is 6 word long.\n",
      "Sentence 24 has 4.00 characters per word.\n",
      "Sentence 25 is 118 characters.\n",
      "Sentence 25 is 29 word long.\n",
      "Sentence 25 has 4.07 characters per word.\n",
      "Sentence 26 is 31 characters.\n",
      "Sentence 26 is 5 word long.\n",
      "Sentence 26 has 6.20 characters per word.\n",
      "Sentence 27 is 26 characters.\n",
      "Sentence 27 is 7 word long.\n",
      "Sentence 27 has 3.71 characters per word.\n",
      "Sentence 28 is 30 characters.\n",
      "Sentence 28 is 7 word long.\n",
      "Sentence 28 has 4.29 characters per word.\n",
      "Sentence 29 is 22 characters.\n",
      "Sentence 29 is 7 word long.\n",
      "Sentence 29 has 3.14 characters per word.\n",
      "Sentence 30 is 32 characters.\n",
      "Sentence 30 is 9 word long.\n",
      "Sentence 30 has 3.56 characters per word.\n",
      "Sentence 31 is 33 characters.\n",
      "Sentence 31 is 7 word long.\n",
      "Sentence 31 has 4.71 characters per word.\n",
      "Sentence 32 is 41 characters.\n",
      "Sentence 32 is 11 word long.\n",
      "Sentence 32 has 3.73 characters per word.\n",
      "Sentence 33 is 19 characters.\n",
      "Sentence 33 is 4 word long.\n",
      "Sentence 33 has 4.75 characters per word.\n",
      "Sentence 34 is 63 characters.\n",
      "Sentence 34 is 16 word long.\n",
      "Sentence 34 has 3.94 characters per word.\n",
      "Sentence 35 is 90 characters.\n",
      "Sentence 35 is 19 word long.\n",
      "Sentence 35 has 4.74 characters per word.\n",
      "Sentence 36 is 6 characters.\n",
      "Sentence 36 is 1 word long.\n",
      "Sentence 36 has 6.00 characters per word.\n",
      "Sentence 37 is 8 characters.\n",
      "Sentence 37 is 3 word long.\n",
      "Sentence 37 has 2.67 characters per word.\n",
      "Sentence 38 is 16 characters.\n",
      "Sentence 38 is 3 word long.\n",
      "Sentence 38 has 5.33 characters per word.\n",
      "Sentence 39 is 34 characters.\n",
      "Sentence 39 is 8 word long.\n",
      "Sentence 39 has 4.25 characters per word.\n",
      "Sentence 40 is 49 characters.\n",
      "Sentence 40 is 11 word long.\n",
      "Sentence 40 has 4.45 characters per word.\n",
      "Sentence 41 is 13 characters.\n",
      "Sentence 41 is 3 word long.\n",
      "Sentence 41 has 4.33 characters per word.\n",
      "Sentence 42 is 20 characters.\n",
      "Sentence 42 is 6 word long.\n",
      "Sentence 42 has 3.33 characters per word.\n",
      "Sentence 43 is 51 characters.\n",
      "Sentence 43 is 14 word long.\n",
      "Sentence 43 has 3.64 characters per word.\n",
      "Sentence 44 is 48 characters.\n",
      "Sentence 44 is 9 word long.\n",
      "Sentence 44 has 5.33 characters per word.\n",
      "Sentence 45 is 6 characters.\n",
      "Sentence 45 is 2 word long.\n",
      "Sentence 45 has 3.00 characters per word.\n",
      "Sentence 46 is 37 characters.\n",
      "Sentence 46 is 8 word long.\n",
      "Sentence 46 has 4.62 characters per word.\n",
      "Sentence 47 is 11 characters.\n",
      "Sentence 47 is 3 word long.\n",
      "Sentence 47 has 3.67 characters per word.\n",
      "Sentence 48 is 37 characters.\n",
      "Sentence 48 is 6 word long.\n",
      "Sentence 48 has 6.17 characters per word.\n",
      "Sentence 49 is 27 characters.\n",
      "Sentence 49 is 9 word long.\n",
      "Sentence 49 has 3.00 characters per word.\n",
      "Sentence 50 is 10 characters.\n",
      "Sentence 50 is 2 word long.\n",
      "Sentence 50 has 5.00 characters per word.\n",
      "Sentence 51 is 29 characters.\n",
      "Sentence 51 is 7 word long.\n",
      "Sentence 51 has 4.14 characters per word.\n",
      "Sentence 52 is 37 characters.\n",
      "Sentence 52 is 7 word long.\n",
      "Sentence 52 has 5.29 characters per word.\n",
      "Sentence 53 is 10 characters.\n",
      "Sentence 53 is 3 word long.\n",
      "Sentence 53 has 3.33 characters per word.\n",
      "Scene 1 is 53 sentences long.\n",
      "Scene 1 is 1546 characters long.\n",
      "The average sentence length in characters: 29.17\n",
      "The average word length in characters: 4.24\n"
     ]
    }
   ],
   "source": [
    "import re\n",
    "import requests\n",
    "from lxml import html\n",
    "\n",
    "Scene1 = requests.get(\"http://www.montypython.50webs.com/scripts/Holy_Grail/Scene1.htm\")\n",
    "test = html.fromstring(Scene1.content)\n",
    "#This will create a list of paragraphs from page\n",
    "paragraphs = test.xpath('//p/text()')\n",
    "#Cleaning the text\n",
    "for i in range(len(paragraphs)):\n",
    "    paragraphs[i] = paragraphs[i].strip()\n",
    "    paragraphs[i] = paragraphs[i].replace(\"\\r\\n\", \"\")\n",
    "    paragraphs[i] = paragraphs[i].replace(\"|\", \"\")\n",
    "    while \"  \" in paragraphs[i]:\n",
    "        paragraphs[i] = paragraphs[i].replace(\"  \", \" \")\n",
    "while \"\" in paragraphs:\n",
    "    paragraphs.remove(\"\")\n",
    "new_paragraphs = []\n",
    "#Separating each paragraph into sentences.\n",
    "for i in paragraphs:\n",
    "    buff = re.split(r\"[.?!]\", i)\n",
    "    for j in buff:\n",
    "        if j != \"\":\n",
    "            new_paragraphs.append(j.strip())\n",
    "#Executing the task\n",
    "i = 1\n",
    "s_len_in_char = 0\n",
    "s_len_in_words = 0\n",
    "for sentence in new_paragraphs:\n",
    "    len_in_char = len(sentence) - sentence.count(\" \") - sentence.count(\",\")\n",
    "    len_in_words = sentence.count(\" \") + 1\n",
    "    print(f\"Sentence {i} is {len_in_char} characters.\")\n",
    "    print(f\"Sentence {i} is {len_in_words} word long.\")\n",
    "    print(f\"Sentence {i} has {len_in_char/len_in_words:.2f} characters per word.\")\n",
    "    s_len_in_char += len_in_char\n",
    "    s_len_in_words += len_in_words\n",
    "    i += 1\n",
    "print(f\"Scene 1 is {len(new_paragraphs)} sentences long.\")\n",
    "print(f\"Scene 1 is {s_len_in_char} characters long.\")\n",
    "print(f\"The average sentence length in characters: {s_len_in_char/len(new_paragraphs):.2f}\")\n",
    "print(f\"The average word length in characters: {s_len_in_char/s_len_in_words:.2f}\")"
   ]
  },
  {
   "cell_type": "markdown",
   "metadata": {},
   "source": [
    "### 4. For the following dictionary write a script that checks if the key is in it."
   ]
  },
  {
   "cell_type": "code",
   "execution_count": 6,
   "metadata": {},
   "outputs": [],
   "source": [
    "passwds = {'Amazon': 'curly', 'Google': 'furry', 'Apple': 'easy',\n",
    "           'Microsoft' : 'easy'}"
   ]
  },
  {
   "cell_type": "code",
   "execution_count": 7,
   "metadata": {},
   "outputs": [
    {
     "name": "stdout",
     "output_type": "stream",
     "text": [
      "d\n",
      "Key d is not in dictionary\n"
     ]
    }
   ],
   "source": [
    "pass_input = input()\n",
    "if pass_input in passwds.keys():\n",
    "    print(f\"Key {pass_input} is in dictionary\")\n",
    "else:\n",
    "    print(f\"Key {pass_input} is not in dictionary\")"
   ]
  },
  {
   "cell_type": "markdown",
   "metadata": {},
   "source": [
    "### 5 Write a function that takes 'x' vector and returns maximum value for all values following zero."
   ]
  },
  {
   "cell_type": "markdown",
   "metadata": {},
   "source": [
    "Реализуйте функцию, возвращающую максимальный элемент в векторе x среди элементов, перед которыми стоит нулевой."
   ]
  },
  {
   "cell_type": "code",
   "execution_count": 22,
   "metadata": {},
   "outputs": [
    {
     "name": "stdout",
     "output_type": "stream",
     "text": [
      "7\n"
     ]
    }
   ],
   "source": [
    "a = \"31243000037123401760234027234234070023046\"\n",
    "str_int =[]\n",
    "for i in a:\n",
    "    str_int.append(int(i))\n",
    "def maxElAfterZero(a):    \n",
    "    elMax = 0\n",
    "    for i in range(1, len(a)):\n",
    "        if a[i-1] == 0 and a[i] > elMax:\n",
    "            elMax = a[i]\n",
    "    return elMax\n",
    "print(maxElAfterZero(str_int))"
   ]
  },
  {
   "cell_type": "markdown",
   "metadata": {},
   "source": [
    "### 6. Write a script that prints out a list of natural numbers not exceeding 100 dividing by 7 and not dividing by 5. "
   ]
  },
  {
   "cell_type": "code",
   "execution_count": 24,
   "metadata": {},
   "outputs": [
    {
     "data": {
      "text/plain": [
       "[7, 14, 21, 28, 42, 49, 56, 63, 77, 84, 91, 98]"
      ]
     },
     "execution_count": 24,
     "metadata": {},
     "output_type": "execute_result"
    }
   ],
   "source": [
    "divBy7notdivBy5 = []\n",
    "for i in range(1,101):\n",
    "    if i % 7 == 0 and i % 5 != 0:\n",
    "        divBy7notdivBy5.append(i)\n",
    "divBy7notdivBy5"
   ]
  }
 ],
 "metadata": {
  "kernelspec": {
   "display_name": "Python 3 (ipykernel)",
   "language": "python",
   "name": "python3"
  },
  "language_info": {
   "codemirror_mode": {
    "name": "ipython",
    "version": 3
   },
   "file_extension": ".py",
   "mimetype": "text/x-python",
   "name": "python",
   "nbconvert_exporter": "python",
   "pygments_lexer": "ipython3",
   "version": "3.9.12"
  }
 },
 "nbformat": 4,
 "nbformat_minor": 4
}
