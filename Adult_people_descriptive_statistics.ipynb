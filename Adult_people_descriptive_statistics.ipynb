{
 "cells": [
  {
   "cell_type": "markdown",
   "id": "30b750f3",
   "metadata": {},
   "source": [
    "# Descriptive statistics for people in some countries"
   ]
  },
  {
   "cell_type": "markdown",
   "id": "cd1098bb",
   "metadata": {},
   "source": [
    "The task of this project is to provide some answers for questions considering this dataset\n",
    "1. How many men and women are presented in this dataset ('sex' feature)?\n",
    "2. What is average women's age ('age' feature)?\n",
    "3. How many Germans are there ('native-coubntry' feature)?\n",
    "4. What are the average and standard deviation values for age of those earning more than 50K per year ('income' feature)?\n",
    "5. What are the average and standard deviation values for age of those earning less than 50K per year ('income' feature)?\n",
    "6. Is it true that people earning more than 50K have higher education('education' feature values: 'Bachelors', 'Prof-school', 'Assoc-acdm', 'Assoc-voc', 'Masters', 'Doctorate')?\n",
    "7. Present age statistics for each race and sex ('race' and 'sex' features) using 'groupby' and 'describe' pandas methods. Find out the age of the oldest male american eskimo.\n",
    "8. Compare the share of people earning more than 50K among single and married men ('marital-status' feature). \n",
    "9. What is maximum hours per week value in dataset ('hoursPerWeek' feature)? How many people are working that much? What is the percentage of people earning more than 50K among them?\n",
    "10. Calculacte average hours per week for each country for people earning more and less 50K."
   ]
  },
  {
   "cell_type": "code",
   "execution_count": 341,
   "id": "52c3284c",
   "metadata": {},
   "outputs": [],
   "source": [
    "import pandas as pd\n",
    "import matplotlib.pyplot as plt\n",
    "%matplotlib inline"
   ]
  },
  {
   "cell_type": "code",
   "execution_count": 342,
   "id": "bc9470f6",
   "metadata": {},
   "outputs": [],
   "source": [
    "adult = pd.read_csv('./data/adult.csv')"
   ]
  },
  {
   "cell_type": "code",
   "execution_count": 343,
   "id": "fa0857db",
   "metadata": {},
   "outputs": [
    {
     "name": "stdout",
     "output_type": "stream",
     "text": [
      "<class 'pandas.core.frame.DataFrame'>\n",
      "RangeIndex: 32561 entries, 0 to 32560\n",
      "Data columns (total 15 columns):\n",
      " #   Column          Non-Null Count  Dtype \n",
      "---  ------          --------------  ----- \n",
      " 0   age             32561 non-null  int64 \n",
      " 1   workclass       30725 non-null  object\n",
      " 2   fnlwgt          32561 non-null  int64 \n",
      " 3   education       32561 non-null  object\n",
      " 4   education-num   32561 non-null  int64 \n",
      " 5   marital-status  32561 non-null  object\n",
      " 6   occupation      30718 non-null  object\n",
      " 7   relationship    32561 non-null  object\n",
      " 8   race            32561 non-null  object\n",
      " 9   sex             32561 non-null  object\n",
      " 10  capitalGain     32561 non-null  int64 \n",
      " 11  capitalLoss     32561 non-null  int64 \n",
      " 12  hoursPerWeek    32561 non-null  int64 \n",
      " 13  nativeCountry   31978 non-null  object\n",
      " 14  income          32561 non-null  object\n",
      "dtypes: int64(6), object(9)\n",
      "memory usage: 3.7+ MB\n"
     ]
    }
   ],
   "source": [
    "adult.info()"
   ]
  },
  {
   "cell_type": "code",
   "execution_count": 344,
   "id": "7b65a936",
   "metadata": {},
   "outputs": [
    {
     "data": {
      "text/html": [
       "<div>\n",
       "<style scoped>\n",
       "    .dataframe tbody tr th:only-of-type {\n",
       "        vertical-align: middle;\n",
       "    }\n",
       "\n",
       "    .dataframe tbody tr th {\n",
       "        vertical-align: top;\n",
       "    }\n",
       "\n",
       "    .dataframe thead th {\n",
       "        text-align: right;\n",
       "    }\n",
       "</style>\n",
       "<table border=\"1\" class=\"dataframe\">\n",
       "  <thead>\n",
       "    <tr style=\"text-align: right;\">\n",
       "      <th></th>\n",
       "      <th>age</th>\n",
       "      <th>fnlwgt</th>\n",
       "      <th>education-num</th>\n",
       "      <th>capitalGain</th>\n",
       "      <th>capitalLoss</th>\n",
       "      <th>hoursPerWeek</th>\n",
       "    </tr>\n",
       "  </thead>\n",
       "  <tbody>\n",
       "    <tr>\n",
       "      <th>count</th>\n",
       "      <td>32561.00</td>\n",
       "      <td>32561.00</td>\n",
       "      <td>32561.00</td>\n",
       "      <td>32561.00</td>\n",
       "      <td>32561.00</td>\n",
       "      <td>32561.00</td>\n",
       "    </tr>\n",
       "    <tr>\n",
       "      <th>mean</th>\n",
       "      <td>38.58</td>\n",
       "      <td>189778.37</td>\n",
       "      <td>10.08</td>\n",
       "      <td>1077.65</td>\n",
       "      <td>87.30</td>\n",
       "      <td>40.44</td>\n",
       "    </tr>\n",
       "    <tr>\n",
       "      <th>std</th>\n",
       "      <td>13.64</td>\n",
       "      <td>105549.98</td>\n",
       "      <td>2.57</td>\n",
       "      <td>7385.29</td>\n",
       "      <td>402.96</td>\n",
       "      <td>12.35</td>\n",
       "    </tr>\n",
       "    <tr>\n",
       "      <th>min</th>\n",
       "      <td>17.00</td>\n",
       "      <td>12285.00</td>\n",
       "      <td>1.00</td>\n",
       "      <td>0.00</td>\n",
       "      <td>0.00</td>\n",
       "      <td>1.00</td>\n",
       "    </tr>\n",
       "    <tr>\n",
       "      <th>25%</th>\n",
       "      <td>28.00</td>\n",
       "      <td>117827.00</td>\n",
       "      <td>9.00</td>\n",
       "      <td>0.00</td>\n",
       "      <td>0.00</td>\n",
       "      <td>40.00</td>\n",
       "    </tr>\n",
       "    <tr>\n",
       "      <th>50%</th>\n",
       "      <td>37.00</td>\n",
       "      <td>178356.00</td>\n",
       "      <td>10.00</td>\n",
       "      <td>0.00</td>\n",
       "      <td>0.00</td>\n",
       "      <td>40.00</td>\n",
       "    </tr>\n",
       "    <tr>\n",
       "      <th>75%</th>\n",
       "      <td>48.00</td>\n",
       "      <td>237051.00</td>\n",
       "      <td>12.00</td>\n",
       "      <td>0.00</td>\n",
       "      <td>0.00</td>\n",
       "      <td>45.00</td>\n",
       "    </tr>\n",
       "    <tr>\n",
       "      <th>max</th>\n",
       "      <td>90.00</td>\n",
       "      <td>1484705.00</td>\n",
       "      <td>16.00</td>\n",
       "      <td>99999.00</td>\n",
       "      <td>4356.00</td>\n",
       "      <td>99.00</td>\n",
       "    </tr>\n",
       "  </tbody>\n",
       "</table>\n",
       "</div>"
      ],
      "text/plain": [
       "           age     fnlwgt  education-num  capitalGain  capitalLoss  \\\n",
       "count 32561.00   32561.00       32561.00     32561.00     32561.00   \n",
       "mean     38.58  189778.37          10.08      1077.65        87.30   \n",
       "std      13.64  105549.98           2.57      7385.29       402.96   \n",
       "min      17.00   12285.00           1.00         0.00         0.00   \n",
       "25%      28.00  117827.00           9.00         0.00         0.00   \n",
       "50%      37.00  178356.00          10.00         0.00         0.00   \n",
       "75%      48.00  237051.00          12.00         0.00         0.00   \n",
       "max      90.00 1484705.00          16.00     99999.00      4356.00   \n",
       "\n",
       "       hoursPerWeek  \n",
       "count      32561.00  \n",
       "mean          40.44  \n",
       "std           12.35  \n",
       "min            1.00  \n",
       "25%           40.00  \n",
       "50%           40.00  \n",
       "75%           45.00  \n",
       "max           99.00  "
      ]
     },
     "execution_count": 344,
     "metadata": {},
     "output_type": "execute_result"
    }
   ],
   "source": [
    "adult.describe()"
   ]
  },
  {
   "cell_type": "code",
   "execution_count": 345,
   "id": "31625f11",
   "metadata": {},
   "outputs": [
    {
     "data": {
      "text/plain": [
       "(32561, 15)"
      ]
     },
     "execution_count": 345,
     "metadata": {},
     "output_type": "execute_result"
    }
   ],
   "source": [
    "adult.shape"
   ]
  },
  {
   "cell_type": "code",
   "execution_count": 346,
   "id": "b9a951b6",
   "metadata": {},
   "outputs": [
    {
     "data": {
      "text/plain": [
       "age              0.00\n",
       "workclass        0.06\n",
       "fnlwgt           0.00\n",
       "education        0.00\n",
       "education-num    0.00\n",
       "marital-status   0.00\n",
       "occupation       0.06\n",
       "relationship     0.00\n",
       "race             0.00\n",
       "sex              0.00\n",
       "capitalGain      0.00\n",
       "capitalLoss      0.00\n",
       "hoursPerWeek     0.00\n",
       "nativeCountry    0.02\n",
       "income           0.00\n",
       "dtype: float64"
      ]
     },
     "execution_count": 346,
     "metadata": {},
     "output_type": "execute_result"
    }
   ],
   "source": [
    "adult.isna().mean()"
   ]
  },
  {
   "cell_type": "code",
   "execution_count": 347,
   "id": "38f0bb32",
   "metadata": {},
   "outputs": [
    {
     "data": {
      "text/plain": [
       "Text(0.5, 1.0, 'Missing values heatmap')"
      ]
     },
     "execution_count": 347,
     "metadata": {},
     "output_type": "execute_result"
    },
    {
     "data": {
      "image/png": "[encoded data removed]",
      "text/plain": [
       "<Figure size 432x288 with 1 Axes>"
      ]
     },
     "metadata": {
      "needs_background": "light"
     },
     "output_type": "display_data"
    }
   ],
   "source": [
    "import seaborn as sns\n",
    "sns.heatmap(adult.isnull(), cbar = False).set_title(\"Missing values heatmap\")"
   ]
  },
  {
   "cell_type": "markdown",
   "id": "8fd8bc4c",
   "metadata": {},
   "source": [
    "We have some missing values for 'workclass', 'occupation', 'nativeCountry' features.\n",
    "\n",
    "Assuming that statistically significant value is 5% lets drop entries where 'nativeCountry' is 'NaN'"
   ]
  },
  {
   "cell_type": "code",
   "execution_count": 348,
   "id": "a840c5b6",
   "metadata": {},
   "outputs": [],
   "source": [
    "adult.dropna(subset=['nativeCountry'], inplace=True)"
   ]
  },
  {
   "cell_type": "markdown",
   "id": "092d6338",
   "metadata": {},
   "source": [
    "The questions about dataset doesn't consider 'workclass' or 'occupation' so let's drop those columns"
   ]
  },
  {
   "cell_type": "code",
   "execution_count": 349,
   "id": "57ec325b",
   "metadata": {},
   "outputs": [],
   "source": [
    "adult.drop(['workclass', 'occupation'], axis = 1, inplace = True)"
   ]
  },
  {
   "cell_type": "code",
   "execution_count": 350,
   "id": "c6103a54",
   "metadata": {},
   "outputs": [
    {
     "name": "stdout",
     "output_type": "stream",
     "text": [
      "<class 'pandas.core.frame.DataFrame'>\n",
      "Int64Index: 31978 entries, 0 to 32560\n",
      "Data columns (total 13 columns):\n",
      " #   Column          Non-Null Count  Dtype \n",
      "---  ------          --------------  ----- \n",
      " 0   age             31978 non-null  int64 \n",
      " 1   fnlwgt          31978 non-null  int64 \n",
      " 2   education       31978 non-null  object\n",
      " 3   education-num   31978 non-null  int64 \n",
      " 4   marital-status  31978 non-null  object\n",
      " 5   relationship    31978 non-null  object\n",
      " 6   race            31978 non-null  object\n",
      " 7   sex             31978 non-null  object\n",
      " 8   capitalGain     31978 non-null  int64 \n",
      " 9   capitalLoss     31978 non-null  int64 \n",
      " 10  hoursPerWeek    31978 non-null  int64 \n",
      " 11  nativeCountry   31978 non-null  object\n",
      " 12  income          31978 non-null  object\n",
      "dtypes: int64(6), object(7)\n",
      "memory usage: 3.4+ MB\n"
     ]
    }
   ],
   "source": [
    "adult.info()"
   ]
  },
  {
   "cell_type": "code",
   "execution_count": 352,
   "id": "ef6545a5",
   "metadata": {},
   "outputs": [
    {
     "data": {
      "text/html": [
       "<div>\n",
       "<style scoped>\n",
       "    .dataframe tbody tr th:only-of-type {\n",
       "        vertical-align: middle;\n",
       "    }\n",
       "\n",
       "    .dataframe tbody tr th {\n",
       "        vertical-align: top;\n",
       "    }\n",
       "\n",
       "    .dataframe thead th {\n",
       "        text-align: right;\n",
       "    }\n",
       "</style>\n",
       "<table border=\"1\" class=\"dataframe\">\n",
       "  <thead>\n",
       "    <tr style=\"text-align: right;\">\n",
       "      <th></th>\n",
       "      <th>education</th>\n",
       "      <th>marital-status</th>\n",
       "      <th>relationship</th>\n",
       "      <th>race</th>\n",
       "      <th>sex</th>\n",
       "      <th>nativeCountry</th>\n",
       "      <th>income</th>\n",
       "    </tr>\n",
       "  </thead>\n",
       "  <tbody>\n",
       "    <tr>\n",
       "      <th>count</th>\n",
       "      <td>31978</td>\n",
       "      <td>31978</td>\n",
       "      <td>31978</td>\n",
       "      <td>31978</td>\n",
       "      <td>31978</td>\n",
       "      <td>31978</td>\n",
       "      <td>31978</td>\n",
       "    </tr>\n",
       "    <tr>\n",
       "      <th>unique</th>\n",
       "      <td>16</td>\n",
       "      <td>7</td>\n",
       "      <td>6</td>\n",
       "      <td>5</td>\n",
       "      <td>2</td>\n",
       "      <td>41</td>\n",
       "      <td>2</td>\n",
       "    </tr>\n",
       "    <tr>\n",
       "      <th>top</th>\n",
       "      <td>HS-grad</td>\n",
       "      <td>Married-civ-spouse</td>\n",
       "      <td>Husband</td>\n",
       "      <td>White</td>\n",
       "      <td>Male</td>\n",
       "      <td>United-States</td>\n",
       "      <td>&lt;=50K</td>\n",
       "    </tr>\n",
       "    <tr>\n",
       "      <th>freq</th>\n",
       "      <td>10368</td>\n",
       "      <td>14692</td>\n",
       "      <td>12947</td>\n",
       "      <td>27430</td>\n",
       "      <td>21370</td>\n",
       "      <td>29170</td>\n",
       "      <td>24283</td>\n",
       "    </tr>\n",
       "  </tbody>\n",
       "</table>\n",
       "</div>"
      ],
      "text/plain": [
       "       education      marital-status relationship   race    sex  \\\n",
       "count      31978               31978        31978  31978  31978   \n",
       "unique        16                   7            6      5      2   \n",
       "top      HS-grad  Married-civ-spouse      Husband  White   Male   \n",
       "freq       10368               14692        12947  27430  21370   \n",
       "\n",
       "        nativeCountry income  \n",
       "count           31978  31978  \n",
       "unique             41      2  \n",
       "top     United-States  <=50K  \n",
       "freq            29170  24283  "
      ]
     },
     "execution_count": 352,
     "metadata": {},
     "output_type": "execute_result"
    }
   ],
   "source": [
    "adult.describe(include='O')"
   ]
  },
  {
   "cell_type": "code",
   "execution_count": 353,
   "id": "4e8c94c9",
   "metadata": {},
   "outputs": [
    {
     "data": {
      "text/html": [
       "<div>\n",
       "<style scoped>\n",
       "    .dataframe tbody tr th:only-of-type {\n",
       "        vertical-align: middle;\n",
       "    }\n",
       "\n",
       "    .dataframe tbody tr th {\n",
       "        vertical-align: top;\n",
       "    }\n",
       "\n",
       "    .dataframe thead th {\n",
       "        text-align: right;\n",
       "    }\n",
       "</style>\n",
       "<table border=\"1\" class=\"dataframe\">\n",
       "  <thead>\n",
       "    <tr style=\"text-align: right;\">\n",
       "      <th></th>\n",
       "      <th>age</th>\n",
       "      <th>fnlwgt</th>\n",
       "      <th>education</th>\n",
       "      <th>education-num</th>\n",
       "      <th>marital-status</th>\n",
       "      <th>relationship</th>\n",
       "      <th>race</th>\n",
       "      <th>sex</th>\n",
       "      <th>capitalGain</th>\n",
       "      <th>capitalLoss</th>\n",
       "      <th>hoursPerWeek</th>\n",
       "      <th>nativeCountry</th>\n",
       "      <th>income</th>\n",
       "    </tr>\n",
       "  </thead>\n",
       "  <tbody>\n",
       "    <tr>\n",
       "      <th>0</th>\n",
       "      <td>39</td>\n",
       "      <td>77516</td>\n",
       "      <td>Bachelors</td>\n",
       "      <td>13</td>\n",
       "      <td>Never-married</td>\n",
       "      <td>Not-in-family</td>\n",
       "      <td>White</td>\n",
       "      <td>Male</td>\n",
       "      <td>2174</td>\n",
       "      <td>0</td>\n",
       "      <td>40</td>\n",
       "      <td>United-States</td>\n",
       "      <td>&lt;=50K</td>\n",
       "    </tr>\n",
       "    <tr>\n",
       "      <th>1</th>\n",
       "      <td>50</td>\n",
       "      <td>83311</td>\n",
       "      <td>Bachelors</td>\n",
       "      <td>13</td>\n",
       "      <td>Married-civ-spouse</td>\n",
       "      <td>Husband</td>\n",
       "      <td>White</td>\n",
       "      <td>Male</td>\n",
       "      <td>0</td>\n",
       "      <td>0</td>\n",
       "      <td>13</td>\n",
       "      <td>United-States</td>\n",
       "      <td>&lt;=50K</td>\n",
       "    </tr>\n",
       "    <tr>\n",
       "      <th>2</th>\n",
       "      <td>38</td>\n",
       "      <td>215646</td>\n",
       "      <td>HS-grad</td>\n",
       "      <td>9</td>\n",
       "      <td>Divorced</td>\n",
       "      <td>Not-in-family</td>\n",
       "      <td>White</td>\n",
       "      <td>Male</td>\n",
       "      <td>0</td>\n",
       "      <td>0</td>\n",
       "      <td>40</td>\n",
       "      <td>United-States</td>\n",
       "      <td>&lt;=50K</td>\n",
       "    </tr>\n",
       "    <tr>\n",
       "      <th>3</th>\n",
       "      <td>53</td>\n",
       "      <td>234721</td>\n",
       "      <td>11th</td>\n",
       "      <td>7</td>\n",
       "      <td>Married-civ-spouse</td>\n",
       "      <td>Husband</td>\n",
       "      <td>Black</td>\n",
       "      <td>Male</td>\n",
       "      <td>0</td>\n",
       "      <td>0</td>\n",
       "      <td>40</td>\n",
       "      <td>United-States</td>\n",
       "      <td>&lt;=50K</td>\n",
       "    </tr>\n",
       "    <tr>\n",
       "      <th>4</th>\n",
       "      <td>28</td>\n",
       "      <td>338409</td>\n",
       "      <td>Bachelors</td>\n",
       "      <td>13</td>\n",
       "      <td>Married-civ-spouse</td>\n",
       "      <td>Wife</td>\n",
       "      <td>Black</td>\n",
       "      <td>Female</td>\n",
       "      <td>0</td>\n",
       "      <td>0</td>\n",
       "      <td>40</td>\n",
       "      <td>Cuba</td>\n",
       "      <td>&lt;=50K</td>\n",
       "    </tr>\n",
       "  </tbody>\n",
       "</table>\n",
       "</div>"
      ],
      "text/plain": [
       "   age  fnlwgt  education  education-num      marital-status   relationship  \\\n",
       "0   39   77516  Bachelors             13       Never-married  Not-in-family   \n",
       "1   50   83311  Bachelors             13  Married-civ-spouse        Husband   \n",
       "2   38  215646    HS-grad              9            Divorced  Not-in-family   \n",
       "3   53  234721       11th              7  Married-civ-spouse        Husband   \n",
       "4   28  338409  Bachelors             13  Married-civ-spouse           Wife   \n",
       "\n",
       "    race     sex  capitalGain  capitalLoss  hoursPerWeek  nativeCountry income  \n",
       "0  White    Male         2174            0            40  United-States  <=50K  \n",
       "1  White    Male            0            0            13  United-States  <=50K  \n",
       "2  White    Male            0            0            40  United-States  <=50K  \n",
       "3  Black    Male            0            0            40  United-States  <=50K  \n",
       "4  Black  Female            0            0            40           Cuba  <=50K  "
      ]
     },
     "execution_count": 353,
     "metadata": {},
     "output_type": "execute_result"
    }
   ],
   "source": [
    "adult.head()"
   ]
  },
  {
   "cell_type": "code",
   "execution_count": 354,
   "id": "facec3e8",
   "metadata": {},
   "outputs": [
    {
     "name": "stdout",
     "output_type": "stream",
     "text": [
      "We have 21370 males, 10608 females.\n"
     ]
    }
   ],
   "source": [
    "# 1. \n",
    "print(f\"We have {sum(adult['sex']=='Male')} males, {sum(adult['sex']=='Female')} females.\")"
   ]
  },
  {
   "cell_type": "markdown",
   "id": "5966e1b1",
   "metadata": {},
   "source": [
    "Considering that world's sex ratio is almost equal (50.42% males 49.58% females') we should state that dataset is [not represenatative][id]. \n",
    "\n",
    "\n",
    "[id]: https://statisticstimes.com/demographics/world-sex-ratio.php#:~:text=Gender%20ratio%20in%20the%20World&text=The%20population%20of%20females%20in,101.68%20males%20per%20100%20females."
   ]
  },
  {
   "cell_type": "code",
   "execution_count": 372,
   "id": "07a7cd8e",
   "metadata": {},
   "outputs": [
    {
     "name": "stdout",
     "output_type": "stream",
     "text": [
      "The average women's age is : 36.85.\n"
     ]
    }
   ],
   "source": [
    "#2.\n",
    "print(f\"The average women's age is : {adult['age'][adult['sex']=='Female'].mean():.2f}.\")"
   ]
  },
  {
   "cell_type": "code",
   "execution_count": 373,
   "id": "1c4c29c2",
   "metadata": {},
   "outputs": [
    {
     "name": "stdout",
     "output_type": "stream",
     "text": [
      "The percentage of Germans in dataset is : 0.43%.\n"
     ]
    }
   ],
   "source": [
    "#3. \n",
    "print(f\"The percentage of Germans in dataset is : {sum(adult['nativeCountry']=='Germany')/adult.shape[0]*100:.2f}%.\")"
   ]
  },
  {
   "cell_type": "code",
   "execution_count": 374,
   "id": "31f9581b",
   "metadata": {},
   "outputs": [
    {
     "data": {
      "text/plain": [
       "{'<=50K', '>50K'}"
      ]
     },
     "execution_count": 374,
     "metadata": {},
     "output_type": "execute_result"
    }
   ],
   "source": [
    "# values for 'income' feature.\n",
    "set(adult['income'])"
   ]
  },
  {
   "cell_type": "code",
   "execution_count": 375,
   "id": "c8df3ce2",
   "metadata": {},
   "outputs": [
    {
     "name": "stdout",
     "output_type": "stream",
     "text": [
      "Some information about the age of people earning more than 50K per year:\n",
      "     \tAverage value : \t44.25\n",
      "     \tStandard deviation : \t10.53\n"
     ]
    }
   ],
   "source": [
    "#4.\n",
    "print(f\"Some information about the age of people earning more than 50K per year:\\n \\\n",
    "    \\tAverage value : \\t{adult['age'][adult['income'] == '>50K'].mean():.2f}\\n \\\n",
    "    \\tStandard deviation : \\t{adult['age'][adult['income'] == '>50K'].std():.2f}\")"
   ]
  },
  {
   "cell_type": "code",
   "execution_count": 376,
   "id": "1c38cacc",
   "metadata": {},
   "outputs": [
    {
     "name": "stdout",
     "output_type": "stream",
     "text": [
      "Some information about the age of people earning less than 50K per year:\n",
      "     \tAverage value : \t36.78\n",
      "     \tStandard deviation : \t14.05\n"
     ]
    }
   ],
   "source": [
    "#5.\n",
    "print(f\"Some information about the age of people earning less than 50K per year:\\n \\\n",
    "    \\tAverage value : \\t{adult['age'][adult['income'] == '<=50K'].mean():.2f}\\n \\\n",
    "    \\tStandard deviation : \\t{adult['age'][adult['income'] == '<=50K'].std():.2f}\")"
   ]
  },
  {
   "cell_type": "code",
   "execution_count": 384,
   "id": "3e3fff44",
   "metadata": {},
   "outputs": [
    {
     "name": "stdout",
     "output_type": "stream",
     "text": [
      "The most wide-spread education of those earning more than 50K per year is : Bachelors\n",
      "Share of those having higher education among well-endowed people earning more than 50K per year : 57.56%\n",
      "Share of those having no higher education among well-endowed people earning more than 50K per year : 42.44%\n"
     ]
    }
   ],
   "source": [
    "#6\n",
    "print(f\"The most wide-spread education of those earning more than 50K per year is : {adult['education'][adult['income'] == '>50K'].mode()[0]}\")\n",
    "highEd = ['Bachelors', \n",
    "          'Prof-school', \n",
    "          'Assoc-acdm', \n",
    "          'Assoc-voc', \n",
    "          'Masters', \n",
    "          'Doctorate']\n",
    "cnt50K = sum(adult['income'] == '>50K')\n",
    "cntHighEd50K = sum(adult['education'][adult['income'] == '>50K'].isin(highEd))\n",
    "print(f\"Share of those having higher education among well-endowed people earning more than 50K per year : {(cntHighEd50K/cnt50K*100):.2f}%\")\n",
    "print(f\"Share of those having no higher education among well-endowed people earning more than 50K per year : {((1 - cntHighEd50K/cnt50K)*100):.2f}%\")"
   ]
  },
  {
   "cell_type": "code",
   "execution_count": 385,
   "id": "8da321d1",
   "metadata": {},
   "outputs": [
    {
     "data": {
      "text/html": [
       "<div>\n",
       "<style scoped>\n",
       "    .dataframe tbody tr th:only-of-type {\n",
       "        vertical-align: middle;\n",
       "    }\n",
       "\n",
       "    .dataframe tbody tr th {\n",
       "        vertical-align: top;\n",
       "    }\n",
       "\n",
       "    .dataframe thead tr th {\n",
       "        text-align: left;\n",
       "    }\n",
       "\n",
       "    .dataframe thead tr:last-of-type th {\n",
       "        text-align: right;\n",
       "    }\n",
       "</style>\n",
       "<table border=\"1\" class=\"dataframe\">\n",
       "  <thead>\n",
       "    <tr>\n",
       "      <th></th>\n",
       "      <th colspan=\"8\" halign=\"left\">age</th>\n",
       "    </tr>\n",
       "    <tr>\n",
       "      <th></th>\n",
       "      <th>count</th>\n",
       "      <th>mean</th>\n",
       "      <th>std</th>\n",
       "      <th>min</th>\n",
       "      <th>25%</th>\n",
       "      <th>50%</th>\n",
       "      <th>75%</th>\n",
       "      <th>max</th>\n",
       "    </tr>\n",
       "    <tr>\n",
       "      <th>race</th>\n",
       "      <th></th>\n",
       "      <th></th>\n",
       "      <th></th>\n",
       "      <th></th>\n",
       "      <th></th>\n",
       "      <th></th>\n",
       "      <th></th>\n",
       "      <th></th>\n",
       "    </tr>\n",
       "  </thead>\n",
       "  <tbody>\n",
       "    <tr>\n",
       "      <th>Amer-Indian-Eskimo</th>\n",
       "      <td>311.00</td>\n",
       "      <td>37.17</td>\n",
       "      <td>12.45</td>\n",
       "      <td>17.00</td>\n",
       "      <td>28.00</td>\n",
       "      <td>35.00</td>\n",
       "      <td>45.50</td>\n",
       "      <td>82.00</td>\n",
       "    </tr>\n",
       "    <tr>\n",
       "      <th>Asian-Pac-Islander</th>\n",
       "      <td>956.00</td>\n",
       "      <td>37.85</td>\n",
       "      <td>13.13</td>\n",
       "      <td>17.00</td>\n",
       "      <td>27.00</td>\n",
       "      <td>36.00</td>\n",
       "      <td>46.00</td>\n",
       "      <td>90.00</td>\n",
       "    </tr>\n",
       "    <tr>\n",
       "      <th>Black</th>\n",
       "      <td>3028.00</td>\n",
       "      <td>37.82</td>\n",
       "      <td>12.84</td>\n",
       "      <td>17.00</td>\n",
       "      <td>28.00</td>\n",
       "      <td>36.00</td>\n",
       "      <td>46.00</td>\n",
       "      <td>90.00</td>\n",
       "    </tr>\n",
       "    <tr>\n",
       "      <th>Other</th>\n",
       "      <td>253.00</td>\n",
       "      <td>33.25</td>\n",
       "      <td>11.64</td>\n",
       "      <td>17.00</td>\n",
       "      <td>25.00</td>\n",
       "      <td>31.00</td>\n",
       "      <td>41.00</td>\n",
       "      <td>77.00</td>\n",
       "    </tr>\n",
       "    <tr>\n",
       "      <th>White</th>\n",
       "      <td>27430.00</td>\n",
       "      <td>38.75</td>\n",
       "      <td>13.78</td>\n",
       "      <td>17.00</td>\n",
       "      <td>28.00</td>\n",
       "      <td>37.00</td>\n",
       "      <td>48.00</td>\n",
       "      <td>90.00</td>\n",
       "    </tr>\n",
       "  </tbody>\n",
       "</table>\n",
       "</div>"
      ],
      "text/plain": [
       "                        age                                          \n",
       "                      count  mean   std   min   25%   50%   75%   max\n",
       "race                                                                 \n",
       "Amer-Indian-Eskimo   311.00 37.17 12.45 17.00 28.00 35.00 45.50 82.00\n",
       "Asian-Pac-Islander   956.00 37.85 13.13 17.00 27.00 36.00 46.00 90.00\n",
       "Black               3028.00 37.82 12.84 17.00 28.00 36.00 46.00 90.00\n",
       "Other                253.00 33.25 11.64 17.00 25.00 31.00 41.00 77.00\n",
       "White              27430.00 38.75 13.78 17.00 28.00 37.00 48.00 90.00"
      ]
     },
     "execution_count": 385,
     "metadata": {},
     "output_type": "execute_result"
    }
   ],
   "source": [
    "#7.\n",
    "p = adult[['age', 'race']].groupby('race').describe()\n",
    "p"
   ]
  },
  {
   "cell_type": "code",
   "execution_count": 393,
   "id": "b7735f3f",
   "metadata": {},
   "outputs": [
    {
     "name": "stdout",
     "output_type": "stream",
     "text": [
      "The oldest American eskimo male is 82 years old.\n"
     ]
    }
   ],
   "source": [
    "print(f\"The oldest American eskimo male is {p[('age',   'max')]['Amer-Indian-Eskimo']:.0f} years old.\")"
   ]
  },
  {
   "cell_type": "code",
   "execution_count": 395,
   "id": "46e7fa1e",
   "metadata": {},
   "outputs": [
    {
     "name": "stderr",
     "output_type": "stream",
     "text": [
      "C:\\Users\\kdogu\\AppData\\Local\\Temp\\ipykernel_18092\\2705137555.py:5: UserWarning: Boolean Series key will be reindexed to match DataFrame index.\n",
      "  married = adult[['married', 'income']][adult['sex'] == 'Male'][adult['income'] == '>50K'].groupby('married').agg(len)\n"
     ]
    },
    {
     "data": {
      "text/html": [
       "<div>\n",
       "<style scoped>\n",
       "    .dataframe tbody tr th:only-of-type {\n",
       "        vertical-align: middle;\n",
       "    }\n",
       "\n",
       "    .dataframe tbody tr th {\n",
       "        vertical-align: top;\n",
       "    }\n",
       "\n",
       "    .dataframe thead th {\n",
       "        text-align: right;\n",
       "    }\n",
       "</style>\n",
       "<table border=\"1\" class=\"dataframe\">\n",
       "  <thead>\n",
       "    <tr style=\"text-align: right;\">\n",
       "      <th></th>\n",
       "      <th>income</th>\n",
       "    </tr>\n",
       "    <tr>\n",
       "      <th>married</th>\n",
       "      <th></th>\n",
       "    </tr>\n",
       "  </thead>\n",
       "  <tbody>\n",
       "    <tr>\n",
       "      <th>False</th>\n",
       "      <td>8.43</td>\n",
       "    </tr>\n",
       "    <tr>\n",
       "      <th>True</th>\n",
       "      <td>44.07</td>\n",
       "    </tr>\n",
       "  </tbody>\n",
       "</table>\n",
       "</div>"
      ],
      "text/plain": [
       "         income\n",
       "married        \n",
       "False      8.43\n",
       "True      44.07"
      ]
     },
     "execution_count": 395,
     "metadata": {},
     "output_type": "execute_result"
    }
   ],
   "source": [
    "#8.\n",
    "married = ['Married-civ-spouse', 'Married-spouse-absent','Married-AF-spouse']\n",
    "adult['married'] = adult['marital-status'].isin(married)\n",
    "total = adult[['married', 'income']][adult['sex'] == 'Male'].groupby('married').agg(len)\n",
    "married = adult[['married', 'income']][adult['sex'] == 'Male'][adult['income'] == '>50K'].groupby('married').agg(len)\n",
    "married/total*100"
   ]
  },
  {
   "cell_type": "code",
   "execution_count": 399,
   "id": "830410a5",
   "metadata": {},
   "outputs": [
    {
     "name": "stdout",
     "output_type": "stream",
     "text": [
      "Maximum hours per week value: 99\n",
      "There are 83 people working that much\n",
      "The percentage of people working that much among people earning more than 50K : 30.12%\n"
     ]
    }
   ],
   "source": [
    "#9.\n",
    "maxHoursPerWeek = adult['hoursPerWeek'].max()\n",
    "cntHoursPerWeek = sum(adult['hoursPerWeek'] == adult['hoursPerWeek'].max())\n",
    "cntHoursPerWeekMaxUSD = sum((adult.income == '>50K') & (adult.hoursPerWeek == adult['hoursPerWeek'].max()))\n",
    "print(f\"Maximum hours per week value: {maxHoursPerWeek}\")\n",
    "print(f\"There are {cntHoursPerWeek} people working that much\")\n",
    "print(f\"The percentage of people working that much among people earning more than 50K : {cntHoursPerWeekMaxUSD/cntHoursPerWeek*100:.2f}%\")"
   ]
  },
  {
   "cell_type": "code",
   "execution_count": 277,
   "id": "65964b36",
   "metadata": {},
   "outputs": [
    {
     "data": {
      "text/html": [
       "<div>\n",
       "<style scoped>\n",
       "    .dataframe tbody tr th:only-of-type {\n",
       "        vertical-align: middle;\n",
       "    }\n",
       "\n",
       "    .dataframe tbody tr th {\n",
       "        vertical-align: top;\n",
       "    }\n",
       "\n",
       "    .dataframe thead th {\n",
       "        text-align: right;\n",
       "    }\n",
       "</style>\n",
       "<table border=\"1\" class=\"dataframe\">\n",
       "  <thead>\n",
       "    <tr style=\"text-align: right;\">\n",
       "      <th></th>\n",
       "      <th>avgHPWmaxIncome</th>\n",
       "      <th>avgHPWminIncome</th>\n",
       "    </tr>\n",
       "    <tr>\n",
       "      <th>nativeCountry</th>\n",
       "      <th></th>\n",
       "      <th></th>\n",
       "    </tr>\n",
       "  </thead>\n",
       "  <tbody>\n",
       "    <tr>\n",
       "      <th>Cambodia</th>\n",
       "      <td>40.00</td>\n",
       "      <td>41.42</td>\n",
       "    </tr>\n",
       "    <tr>\n",
       "      <th>Canada</th>\n",
       "      <td>45.64</td>\n",
       "      <td>37.91</td>\n",
       "    </tr>\n",
       "    <tr>\n",
       "      <th>China</th>\n",
       "      <td>38.90</td>\n",
       "      <td>37.38</td>\n",
       "    </tr>\n",
       "    <tr>\n",
       "      <th>Columbia</th>\n",
       "      <td>50.00</td>\n",
       "      <td>38.68</td>\n",
       "    </tr>\n",
       "    <tr>\n",
       "      <th>Cuba</th>\n",
       "      <td>42.44</td>\n",
       "      <td>37.99</td>\n",
       "    </tr>\n",
       "    <tr>\n",
       "      <th>Dominican-Republic</th>\n",
       "      <td>47.00</td>\n",
       "      <td>42.34</td>\n",
       "    </tr>\n",
       "    <tr>\n",
       "      <th>Ecuador</th>\n",
       "      <td>48.75</td>\n",
       "      <td>38.04</td>\n",
       "    </tr>\n",
       "    <tr>\n",
       "      <th>El-Salvador</th>\n",
       "      <td>45.00</td>\n",
       "      <td>36.03</td>\n",
       "    </tr>\n",
       "    <tr>\n",
       "      <th>England</th>\n",
       "      <td>44.53</td>\n",
       "      <td>40.48</td>\n",
       "    </tr>\n",
       "    <tr>\n",
       "      <th>France</th>\n",
       "      <td>50.75</td>\n",
       "      <td>41.06</td>\n",
       "    </tr>\n",
       "    <tr>\n",
       "      <th>Germany</th>\n",
       "      <td>44.98</td>\n",
       "      <td>39.14</td>\n",
       "    </tr>\n",
       "    <tr>\n",
       "      <th>Greece</th>\n",
       "      <td>50.62</td>\n",
       "      <td>41.81</td>\n",
       "    </tr>\n",
       "    <tr>\n",
       "      <th>Guatemala</th>\n",
       "      <td>36.67</td>\n",
       "      <td>39.36</td>\n",
       "    </tr>\n",
       "    <tr>\n",
       "      <th>Haiti</th>\n",
       "      <td>42.75</td>\n",
       "      <td>36.33</td>\n",
       "    </tr>\n",
       "    <tr>\n",
       "      <th>Honduras</th>\n",
       "      <td>60.00</td>\n",
       "      <td>34.33</td>\n",
       "    </tr>\n",
       "    <tr>\n",
       "      <th>Hong</th>\n",
       "      <td>45.00</td>\n",
       "      <td>39.14</td>\n",
       "    </tr>\n",
       "    <tr>\n",
       "      <th>Hungary</th>\n",
       "      <td>50.00</td>\n",
       "      <td>31.30</td>\n",
       "    </tr>\n",
       "    <tr>\n",
       "      <th>India</th>\n",
       "      <td>46.48</td>\n",
       "      <td>38.23</td>\n",
       "    </tr>\n",
       "    <tr>\n",
       "      <th>Iran</th>\n",
       "      <td>47.50</td>\n",
       "      <td>41.44</td>\n",
       "    </tr>\n",
       "    <tr>\n",
       "      <th>Ireland</th>\n",
       "      <td>48.00</td>\n",
       "      <td>40.95</td>\n",
       "    </tr>\n",
       "    <tr>\n",
       "      <th>Italy</th>\n",
       "      <td>45.40</td>\n",
       "      <td>39.62</td>\n",
       "    </tr>\n",
       "    <tr>\n",
       "      <th>Jamaica</th>\n",
       "      <td>41.10</td>\n",
       "      <td>38.24</td>\n",
       "    </tr>\n",
       "    <tr>\n",
       "      <th>Japan</th>\n",
       "      <td>47.96</td>\n",
       "      <td>41.00</td>\n",
       "    </tr>\n",
       "    <tr>\n",
       "      <th>Laos</th>\n",
       "      <td>40.00</td>\n",
       "      <td>40.38</td>\n",
       "    </tr>\n",
       "    <tr>\n",
       "      <th>Mexico</th>\n",
       "      <td>46.58</td>\n",
       "      <td>40.00</td>\n",
       "    </tr>\n",
       "    <tr>\n",
       "      <th>Nicaragua</th>\n",
       "      <td>37.50</td>\n",
       "      <td>36.09</td>\n",
       "    </tr>\n",
       "    <tr>\n",
       "      <th>Peru</th>\n",
       "      <td>40.00</td>\n",
       "      <td>35.07</td>\n",
       "    </tr>\n",
       "    <tr>\n",
       "      <th>Philippines</th>\n",
       "      <td>43.03</td>\n",
       "      <td>38.07</td>\n",
       "    </tr>\n",
       "    <tr>\n",
       "      <th>Poland</th>\n",
       "      <td>39.00</td>\n",
       "      <td>38.17</td>\n",
       "    </tr>\n",
       "    <tr>\n",
       "      <th>Portugal</th>\n",
       "      <td>41.50</td>\n",
       "      <td>41.94</td>\n",
       "    </tr>\n",
       "    <tr>\n",
       "      <th>Puerto-Rico</th>\n",
       "      <td>39.42</td>\n",
       "      <td>38.47</td>\n",
       "    </tr>\n",
       "    <tr>\n",
       "      <th>Scotland</th>\n",
       "      <td>46.67</td>\n",
       "      <td>39.44</td>\n",
       "    </tr>\n",
       "    <tr>\n",
       "      <th>South</th>\n",
       "      <td>51.44</td>\n",
       "      <td>40.16</td>\n",
       "    </tr>\n",
       "    <tr>\n",
       "      <th>Taiwan</th>\n",
       "      <td>46.80</td>\n",
       "      <td>33.77</td>\n",
       "    </tr>\n",
       "    <tr>\n",
       "      <th>Thailand</th>\n",
       "      <td>58.33</td>\n",
       "      <td>42.87</td>\n",
       "    </tr>\n",
       "    <tr>\n",
       "      <th>Trinadad&amp;Tobago</th>\n",
       "      <td>40.00</td>\n",
       "      <td>37.06</td>\n",
       "    </tr>\n",
       "    <tr>\n",
       "      <th>United-States</th>\n",
       "      <td>45.51</td>\n",
       "      <td>38.83</td>\n",
       "    </tr>\n",
       "    <tr>\n",
       "      <th>Vietnam</th>\n",
       "      <td>39.20</td>\n",
       "      <td>37.19</td>\n",
       "    </tr>\n",
       "    <tr>\n",
       "      <th>Yugoslavia</th>\n",
       "      <td>49.50</td>\n",
       "      <td>41.60</td>\n",
       "    </tr>\n",
       "    <tr>\n",
       "      <th>Holand-Netherlands</th>\n",
       "      <td>NaN</td>\n",
       "      <td>40.00</td>\n",
       "    </tr>\n",
       "    <tr>\n",
       "      <th>Outlying-US(Guam-USVI-etc)</th>\n",
       "      <td>NaN</td>\n",
       "      <td>41.86</td>\n",
       "    </tr>\n",
       "  </tbody>\n",
       "</table>\n",
       "</div>"
      ],
      "text/plain": [
       "                            avgHPWmaxIncome  avgHPWminIncome\n",
       "nativeCountry                                               \n",
       "Cambodia                              40.00            41.42\n",
       "Canada                                45.64            37.91\n",
       "China                                 38.90            37.38\n",
       "Columbia                              50.00            38.68\n",
       "Cuba                                  42.44            37.99\n",
       "Dominican-Republic                    47.00            42.34\n",
       "Ecuador                               48.75            38.04\n",
       "El-Salvador                           45.00            36.03\n",
       "England                               44.53            40.48\n",
       "France                                50.75            41.06\n",
       "Germany                               44.98            39.14\n",
       "Greece                                50.62            41.81\n",
       "Guatemala                             36.67            39.36\n",
       "Haiti                                 42.75            36.33\n",
       "Honduras                              60.00            34.33\n",
       "Hong                                  45.00            39.14\n",
       "Hungary                               50.00            31.30\n",
       "India                                 46.48            38.23\n",
       "Iran                                  47.50            41.44\n",
       "Ireland                               48.00            40.95\n",
       "Italy                                 45.40            39.62\n",
       "Jamaica                               41.10            38.24\n",
       "Japan                                 47.96            41.00\n",
       "Laos                                  40.00            40.38\n",
       "Mexico                                46.58            40.00\n",
       "Nicaragua                             37.50            36.09\n",
       "Peru                                  40.00            35.07\n",
       "Philippines                           43.03            38.07\n",
       "Poland                                39.00            38.17\n",
       "Portugal                              41.50            41.94\n",
       "Puerto-Rico                           39.42            38.47\n",
       "Scotland                              46.67            39.44\n",
       "South                                 51.44            40.16\n",
       "Taiwan                                46.80            33.77\n",
       "Thailand                              58.33            42.87\n",
       "Trinadad&Tobago                       40.00            37.06\n",
       "United-States                         45.51            38.83\n",
       "Vietnam                               39.20            37.19\n",
       "Yugoslavia                            49.50            41.60\n",
       "Holand-Netherlands                      NaN            40.00\n",
       "Outlying-US(Guam-USVI-etc)              NaN            41.86"
      ]
     },
     "execution_count": 277,
     "metadata": {},
     "output_type": "execute_result"
    }
   ],
   "source": [
    "#10\n",
    "pd.options.display.float_format = '{:.2f}'.format\n",
    "avgHPWmaxIncome = adult[adult['income'] == '>50K'][['nativeCountry', 'hoursPerWeek']].groupby('nativeCountry').agg('mean').rename(columns={\"hoursPerWeek\": \"avgHPWmaxIncome\"})\n",
    "avgHPWminIncome = adult[adult['income'] == '<=50K'][['nativeCountry', 'hoursPerWeek']].groupby('nativeCountry').agg('mean').rename(columns={\"hoursPerWeek\": \"avgHPWminIncome\"})\n",
    "res = pd.concat([avgHPWmaxIncome, avgHPWminIncome], axis = 1)\n",
    "res"
   ]
  },
  {
   "cell_type": "code",
   "execution_count": 278,
   "id": "f8350e58",
   "metadata": {},
   "outputs": [
    {
     "data": {
      "text/html": [
       "<div>\n",
       "<style scoped>\n",
       "    .dataframe tbody tr th:only-of-type {\n",
       "        vertical-align: middle;\n",
       "    }\n",
       "\n",
       "    .dataframe tbody tr th {\n",
       "        vertical-align: top;\n",
       "    }\n",
       "\n",
       "    .dataframe thead th {\n",
       "        text-align: right;\n",
       "    }\n",
       "</style>\n",
       "<table border=\"1\" class=\"dataframe\">\n",
       "  <thead>\n",
       "    <tr style=\"text-align: right;\">\n",
       "      <th></th>\n",
       "      <th>avgHPWmaxIncome</th>\n",
       "      <th>avgHPWminIncome</th>\n",
       "    </tr>\n",
       "    <tr>\n",
       "      <th>nativeCountry</th>\n",
       "      <th></th>\n",
       "      <th></th>\n",
       "    </tr>\n",
       "  </thead>\n",
       "  <tbody>\n",
       "    <tr>\n",
       "      <th>Cambodia</th>\n",
       "      <td>40.00</td>\n",
       "      <td>41.42</td>\n",
       "    </tr>\n",
       "    <tr>\n",
       "      <th>Guatemala</th>\n",
       "      <td>36.67</td>\n",
       "      <td>39.36</td>\n",
       "    </tr>\n",
       "    <tr>\n",
       "      <th>Laos</th>\n",
       "      <td>40.00</td>\n",
       "      <td>40.38</td>\n",
       "    </tr>\n",
       "    <tr>\n",
       "      <th>Portugal</th>\n",
       "      <td>41.50</td>\n",
       "      <td>41.94</td>\n",
       "    </tr>\n",
       "  </tbody>\n",
       "</table>\n",
       "</div>"
      ],
      "text/plain": [
       "               avgHPWmaxIncome  avgHPWminIncome\n",
       "nativeCountry                                  \n",
       "Cambodia                 40.00            41.42\n",
       "Guatemala                36.67            39.36\n",
       "Laos                     40.00            40.38\n",
       "Portugal                 41.50            41.94"
      ]
     },
     "execution_count": 278,
     "metadata": {},
     "output_type": "execute_result"
    }
   ],
   "source": [
    "add_res = res.dropna()\n",
    "add_res[add_res.avgHPWmaxIncome < add_res.avgHPWminIncome]"
   ]
  },
  {
   "cell_type": "markdown",
   "id": "0c9bc95b",
   "metadata": {},
   "source": [
    "There are 4 countries where people in average working less earn more."
   ]
  },
  {
   "cell_type": "code",
   "execution_count": null,
   "id": "67f8fd55",
   "metadata": {},
   "outputs": [],
   "source": []
  }
 ],
 "metadata": {
  "kernelspec": {
   "display_name": "Python 3 (ipykernel)",
   "language": "python",
   "name": "python3"
  },
  "language_info": {
   "codemirror_mode": {
    "name": "ipython",
    "version": 3
   },
   "file_extension": ".py",
   "mimetype": "text/x-python",
   "name": "python",
   "nbconvert_exporter": "python",
   "pygments_lexer": "ipython3",
   "version": "3.9.12"
  }
 },
 "nbformat": 4,
 "nbformat_minor": 5
}
