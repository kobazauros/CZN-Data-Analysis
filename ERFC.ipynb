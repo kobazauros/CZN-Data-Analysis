{
 "cells": [
  {
   "cell_type": "markdown",
   "id": "bb10c820",
   "metadata": {},
   "source": [
    "# erfc usage"
   ]
  },
  {
   "cell_type": "code",
   "execution_count": 66,
   "id": "1ab43431",
   "metadata": {},
   "outputs": [
    {
     "name": "stdout",
     "output_type": "stream",
     "text": [
      "Iteration 1: [ 8.02  8.16  3.97  8.64  0.84  4.46  0.81  7.74  8.78  9.26 20.46 10.38]\n",
      "Iteration 2: [ 8.02  8.16  3.97  8.64  0.84  4.46  0.81  7.74  8.78  9.26 10.38]\n",
      "Iteration 3: [ 8.02  8.16  3.97  8.64  4.46  7.74  8.78  9.26 10.38]\n",
      "Iteration 4: [ 8.02  8.16  8.64  7.74  8.78  9.26 10.38]\n",
      "Iteration 5: [8.02 8.16 8.64 7.74 8.78 9.26]\n",
      "Iteration 6: [8.02 8.16 8.64 8.78]\n"
     ]
    }
   ],
   "source": [
    "import numpy as np\n",
    "from scipy.special import erfc\n",
    "from scipy.stats import tstd, tmean\n",
    "a = np.array([8.02,8.16,3.97,8.64,0.84,4.46,0.81,7.74,8.78,9.26,20.46,29.87,10.38,25.71])\n",
    "iteration, test = 1, erfc(abs((a - tmean(a))/tstd(a))) < 1/(2*len(a))\n",
    "while any(test):\n",
    "    a = a[test == False]\n",
    "    test = erfc(abs((a - tmean(a))/tstd(a))) < 1/(2*len(a))\n",
    "    print(f\"Iteration {iteration}: {a}\")\n",
    "    iteration += 1\n",
    "\n"
   ]
  },
  {
   "cell_type": "code",
   "execution_count": 65,
   "id": "4d973fb3",
   "metadata": {},
   "outputs": [
    {
     "name": "stdout",
     "output_type": "stream",
     "text": [
      "Iteration 1: [ 8.02  8.16  3.97  8.64  0.84  4.46  0.81  7.74  8.78  9.26 20.46 10.38]\n",
      "Iteration 2: [ 8.02  8.16  3.97  8.64  0.84  4.46  0.81  7.74  8.78  9.26 10.38]\n",
      "Iteration 3: [ 8.02  8.16  3.97  8.64  4.46  7.74  8.78  9.26 10.38]\n",
      "Iteration 4: [ 8.02  8.16  8.64  7.74  8.78  9.26 10.38]\n",
      "Iteration 5: [8.02 8.16 8.64 7.74 8.78 9.26]\n",
      "Iteration 6: [8.02 8.16 8.64 8.78]\n"
     ]
    }
   ],
   "source": [
    "iteration, test = 1, erfc(abs((a - tmean(a))/tstd(a))) < 1/(2*len(a))\n",
    "while any(test):\n",
    "    a = a[test == False]\n",
    "    test = erfc(abs((a - tmean(a))/tstd(a))) < 1/(2*len(a))\n",
    "    print(f\"Iteration {iteration}: {a}\")\n",
    "    iteration += 1\n"
   ]
  },
  {
   "cell_type": "code",
   "execution_count": 27,
   "id": "669e99e4",
   "metadata": {},
   "outputs": [
    {
     "data": {
      "text/plain": [
       "array([False, False, False, False, False, False, False, False, False,\n",
       "       False, False,  True, False,  True])"
      ]
     },
     "execution_count": 27,
     "metadata": {},
     "output_type": "execute_result"
    }
   ],
   "source": [
    "test<1/(2*len(a))"
   ]
  },
  {
   "cell_type": "code",
   "execution_count": 35,
   "id": "520714c7",
   "metadata": {},
   "outputs": [],
   "source": [
    "np.where?"
   ]
  },
  {
   "cell_type": "code",
   "execution_count": 82,
   "id": "5f32636c",
   "metadata": {},
   "outputs": [
    {
     "name": "stdout",
     "output_type": "stream",
     "text": [
      "    df_values     input  standarted_values\n",
      "0        0.81 -1.106037           0.117777\n",
      "1        0.84 -1.102616           0.118917\n",
      "2        3.97 -0.745614           0.291674\n",
      "3        4.46 -0.689725           0.329352\n",
      "4        7.74 -0.315615           0.655347\n",
      "5        8.02 -0.283679           0.688286\n",
      "6        8.16 -0.267711           0.704985\n",
      "7        8.64 -0.212963           0.763281\n",
      "8        8.78 -0.196995           0.780558\n",
      "9        9.26 -0.142247           0.840568\n",
      "10      10.38 -0.014502           0.983638\n",
      "11      20.46  1.135204           0.108401\n",
      "12      25.71  1.734008           0.014196\n",
      "13      29.87  2.208490           0.001788\n",
      "    df_values\n",
      "0        0.81\n",
      "1        0.84\n",
      "2        3.97\n",
      "3        4.46\n",
      "4        7.74\n",
      "5        8.02\n",
      "6        8.16\n",
      "7        8.64\n",
      "8        8.78\n",
      "9        9.26\n",
      "10      10.38\n",
      "11      20.46\n",
      "Iter:1, Delited values: [25.71, 29.87]\n",
      "    df_values     input  standarted_values\n",
      "0        0.81 -1.319270           0.062079\n",
      "1        0.84 -1.313463           0.063238\n",
      "2        3.97 -0.707696           0.316907\n",
      "3        4.46 -0.612864           0.386095\n",
      "4        7.74  0.021934           0.975254\n",
      "5        8.02  0.076124           0.914269\n",
      "6        8.16  0.103219           0.883942\n",
      "7        8.64  0.196116           0.781511\n",
      "8        8.78  0.223211           0.752254\n",
      "9        9.26  0.316109           0.654843\n",
      "10      10.38  0.532869           0.451095\n",
      "11      20.46  2.483710           0.000444\n",
      "    df_values\n",
      "0        0.81\n",
      "1        0.84\n",
      "2        3.97\n",
      "3        4.46\n",
      "4        7.74\n",
      "5        8.02\n",
      "6        8.16\n",
      "7        8.64\n",
      "8        8.78\n",
      "9        9.26\n",
      "10      10.38\n",
      "Iter:2, Delited values: [20.46]\n",
      "    df_values     input  standarted_values\n",
      "0        0.81 -1.673311           0.017961\n",
      "1        0.84 -1.664426           0.018580\n",
      "2        3.97 -0.737441           0.296995\n",
      "3        4.46 -0.592322           0.402216\n",
      "4        7.74  0.379086           0.591883\n",
      "5        8.02  0.462011           0.513509\n",
      "6        8.16  0.503474           0.476453\n",
      "7        8.64  0.645631           0.361211\n",
      "8        8.78  0.687094           0.331201\n",
      "9        9.26  0.829251           0.240901\n",
      "10      10.38  1.160952           0.100624\n",
      "   df_values\n",
      "0       3.97\n",
      "1       4.46\n",
      "2       7.74\n",
      "3       8.02\n",
      "4       8.16\n",
      "5       8.64\n",
      "6       8.78\n",
      "7       9.26\n",
      "8      10.38\n",
      "Iter:3, Delited values: [0.81, 0.84]\n",
      "   df_values     input  standarted_values\n",
      "0       3.97 -1.754604           0.013087\n",
      "1       4.46 -1.524859           0.031047\n",
      "2       7.74  0.013024           0.985305\n",
      "3       8.02  0.144307           0.838291\n",
      "4       8.16  0.209948           0.766534\n",
      "5       8.64  0.435004           0.538430\n",
      "6       8.78  0.500646           0.478933\n",
      "7       9.26  0.725702           0.304752\n",
      "8      10.38  1.250832           0.076903\n",
      "   df_values\n",
      "0       7.74\n",
      "1       8.02\n",
      "2       8.16\n",
      "3       8.64\n",
      "4       8.78\n",
      "5       9.26\n",
      "6      10.38\n",
      "Iter:4, Delited values: [3.97, 4.46]\n",
      "   df_values     input  standarted_values\n",
      "0       7.74 -1.083757           0.125359\n",
      "1       8.02 -0.771380           0.275318\n",
      "2       8.16 -0.615192           0.384294\n",
      "3       8.64 -0.079688           0.910272\n",
      "4       8.78  0.076501           0.913847\n",
      "5       9.26  0.612004           0.386762\n",
      "6      10.38  1.861513           0.008474\n",
      "   df_values\n",
      "0       7.74\n",
      "1       8.02\n",
      "2       8.16\n",
      "3       8.64\n",
      "4       8.78\n",
      "5       9.26\n",
      "Iter:5, Delited values: [10.38]\n",
      "   df_values     input  standarted_values\n",
      "0       7.74 -1.236309           0.080394\n",
      "1       8.02 -0.737031           0.297264\n",
      "2       8.16 -0.487391           0.490650\n",
      "3       8.64  0.368515           0.602256\n",
      "4       8.78  0.618155           0.382008\n",
      "5       9.26  1.474061           0.037102\n",
      "   df_values\n",
      "0       8.02\n",
      "1       8.16\n",
      "2       8.64\n",
      "3       8.78\n",
      "Iter:6, Delited values: [7.74, 9.26]\n",
      "   df_values     input  standarted_values\n",
      "0       8.02 -1.035508           0.143077\n",
      "1       8.16 -0.654005           0.355016\n",
      "2       8.64  0.654005           0.355016\n",
      "3       8.78  1.035508           0.143077\n",
      "   df_values\n",
      "0       8.02\n",
      "1       8.16\n",
      "2       8.64\n",
      "3       8.78\n",
      "----------------------------------------\n",
      "Clean data: [8.02, 8.16, 8.64, 8.78]\n"
     ]
    }
   ],
   "source": [
    "import pandas as pd\n",
    "import numpy as np\n",
    "from scipy.special import erfc\n",
    "\n",
    "my_set = [8.02, 8.16, 3.97, 8.64, 0.84, 4.46, 0.81, 7.74, 8.78, 9.26, 20.46, 29.87, 10.38, 25.71]\n",
    "\n",
    "df_my_set = pd.DataFrame(data=my_set).sort_values(0).rename(columns={0:'df_values'}).reset_index().loc[:,['df_values']]\n",
    "\n",
    "delited_values = []\n",
    "current_df = df_my_set # делаем копию датасета\n",
    "\n",
    "iter = 1\n",
    "while len(current_df)>2:\n",
    "    current_df['input'] = (current_df.df_values - current_df.df_values.mean())/current_df.df_values.std()\n",
    "    current_df['standarted_values'] = erfc(abs((current_df.df_values - current_df.df_values.mean()))/current_df.df_values.std()) # добавляем колоку со значениями erfc\n",
    "    print(current_df)\n",
    "    criterion = 1/(2*current_df.df_values.count()) # считаем критерий\n",
    "    \n",
    "    detected_values = current_df.query('standarted_values < @criterion').reset_index().loc[:, 'df_values'].to_list() # отбираем выбросы\n",
    "    current_df = current_df.query('standarted_values >= @criterion').reset_index().loc[:, ['df_values']] # переопределяем датасет, оставив только не выбросы\n",
    "    print(current_df)\n",
    "    if len(detected_values) == 0: # если выбросов больше нет - выходим из цикла\n",
    "        break\n",
    "    else:\n",
    "        print(f'Iter:{iter}, Delited values: {detected_values}')\n",
    "        delited_values.extend(detected_values)\n",
    "        iter += 1\n",
    "print('-'*40)\n",
    "print(f'Clean data: {current_df.df_values.to_list()}')"
   ]
  },
  {
   "cell_type": "code",
   "execution_count": null,
   "id": "c218cbb1",
   "metadata": {},
   "outputs": [],
   "source": []
  }
 ],
 "metadata": {
  "kernelspec": {
   "display_name": "Python 3 (ipykernel)",
   "language": "python",
   "name": "python3"
  },
  "language_info": {
   "codemirror_mode": {
    "name": "ipython",
    "version": 3
   },
   "file_extension": ".py",
   "mimetype": "text/x-python",
   "name": "python",
   "nbconvert_exporter": "python",
   "pygments_lexer": "ipython3",
   "version": "3.9.12"
  }
 },
 "nbformat": 4,
 "nbformat_minor": 5
}
